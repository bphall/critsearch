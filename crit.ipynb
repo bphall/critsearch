{
 "cells": [
  {
   "cell_type": "code",
   "execution_count": 29,
   "metadata": {},
   "outputs": [],
   "source": [
    "import requests\n",
    "from bs4 import BeautifulSoup\n",
    "import re\n",
    "import pandas as pd\n",
    "from matplotlib import pyplot as plt\n",
    "import seaborn as sns\n",
    "import time\n",
    "import pickle\n",
    "\n",
    "from nltk import RegexpTokenizer\n",
    "from nltk.corpus import stopwords\n",
    "\n",
    "from gensim.models.doc2vec import Doc2Vec, TaggedDocument"
   ]
  },
  {
   "cell_type": "code",
   "execution_count": 4,
   "metadata": {},
   "outputs": [],
   "source": [
    "df = pickle.load( open( \"criterion.pkl\", \"rb\" ) )"
   ]
  },
  {
   "cell_type": "code",
   "execution_count": 174,
   "metadata": {},
   "outputs": [
    {
     "data": {
      "text/html": [
       "<div>\n",
       "<style scoped>\n",
       "    .dataframe tbody tr th:only-of-type {\n",
       "        vertical-align: middle;\n",
       "    }\n",
       "\n",
       "    .dataframe tbody tr th {\n",
       "        vertical-align: top;\n",
       "    }\n",
       "\n",
       "    .dataframe thead th {\n",
       "        text-align: right;\n",
       "    }\n",
       "</style>\n",
       "<table border=\"1\" class=\"dataframe\">\n",
       "  <thead>\n",
       "    <tr style=\"text-align: right;\">\n",
       "      <th></th>\n",
       "      <th>title</th>\n",
       "      <th>director</th>\n",
       "      <th>country</th>\n",
       "      <th>year</th>\n",
       "      <th>links</th>\n",
       "      <th>summaries</th>\n",
       "      <th>summary</th>\n",
       "    </tr>\n",
       "  </thead>\n",
       "  <tbody>\n",
       "    <tr>\n",
       "      <th>0</th>\n",
       "      <td>2 or 3 Things I Know About Her</td>\n",
       "      <td>Jean-Luc Godard</td>\n",
       "      <td>France,</td>\n",
       "      <td>1967</td>\n",
       "      <td>https://www.criterionchannel.com/2-or-3-things...</td>\n",
       "      <td>Directed by Jean-Luc Godard • 1967 • France\\nS...</td>\n",
       "      <td>Directed by Jean-Luc Godard • 1967 • France St...</td>\n",
       "    </tr>\n",
       "    <tr>\n",
       "      <th>1</th>\n",
       "      <td>3:10 to Yuma</td>\n",
       "      <td>Delmer Daves</td>\n",
       "      <td>United States,</td>\n",
       "      <td>1957</td>\n",
       "      <td>https://www.criterionchannel.com/3-10-to-yuma</td>\n",
       "      <td>Directed by Delmer Daves • 1957 • United State...</td>\n",
       "      <td>Directed by Delmer Daves • 1957 • United State...</td>\n",
       "    </tr>\n",
       "    <tr>\n",
       "      <th>2</th>\n",
       "      <td>3 Faces</td>\n",
       "      <td>Jafar Panahi</td>\n",
       "      <td>Iran,</td>\n",
       "      <td>2018</td>\n",
       "      <td>https://www.criterionchannel.com/3-faces</td>\n",
       "      <td>Directed by Jafar Panahi • 2018 • Iran\\nStarri...</td>\n",
       "      <td>Directed by Jafar Panahi • 2018 • Iran Starrin...</td>\n",
       "    </tr>\n",
       "    <tr>\n",
       "      <th>3</th>\n",
       "      <td>4 Months, 3 Weeks and 2 Days</td>\n",
       "      <td>Cristian Mungiu</td>\n",
       "      <td>Romania,</td>\n",
       "      <td>2007</td>\n",
       "      <td>https://www.criterionchannel.com/4-months-3-we...</td>\n",
       "      <td>Criterion Collection Edition #958\\r\\n\\r\\nRoman...</td>\n",
       "      <td>Criterion Collection Edition #958    Romanian ...</td>\n",
       "    </tr>\n",
       "    <tr>\n",
       "      <th>4</th>\n",
       "      <td>5 Against the House</td>\n",
       "      <td>Phil Karlson</td>\n",
       "      <td>United States,</td>\n",
       "      <td>1955</td>\n",
       "      <td>https://www.criterionchannel.com/5-against-the...</td>\n",
       "      <td>Directed by Phil Karlson • 1955 • United State...</td>\n",
       "      <td>Directed by Phil Karlson • 1955 • United State...</td>\n",
       "    </tr>\n",
       "  </tbody>\n",
       "</table>\n",
       "</div>"
      ],
      "text/plain": [
       "                            title         director         country  year  \\\n",
       "0  2 or 3 Things I Know About Her  Jean-Luc Godard         France,  1967   \n",
       "1                    3:10 to Yuma     Delmer Daves  United States,  1957   \n",
       "2                         3 Faces     Jafar Panahi           Iran,  2018   \n",
       "3    4 Months, 3 Weeks and 2 Days  Cristian Mungiu        Romania,  2007   \n",
       "4             5 Against the House     Phil Karlson  United States,  1955   \n",
       "\n",
       "                                               links  \\\n",
       "0  https://www.criterionchannel.com/2-or-3-things...   \n",
       "1      https://www.criterionchannel.com/3-10-to-yuma   \n",
       "2           https://www.criterionchannel.com/3-faces   \n",
       "3  https://www.criterionchannel.com/4-months-3-we...   \n",
       "4  https://www.criterionchannel.com/5-against-the...   \n",
       "\n",
       "                                           summaries  \\\n",
       "0  Directed by Jean-Luc Godard • 1967 • France\\nS...   \n",
       "1  Directed by Delmer Daves • 1957 • United State...   \n",
       "2  Directed by Jafar Panahi • 2018 • Iran\\nStarri...   \n",
       "3  Criterion Collection Edition #958\\r\\n\\r\\nRoman...   \n",
       "4  Directed by Phil Karlson • 1955 • United State...   \n",
       "\n",
       "                                             summary  \n",
       "0  Directed by Jean-Luc Godard • 1967 • France St...  \n",
       "1  Directed by Delmer Daves • 1957 • United State...  \n",
       "2  Directed by Jafar Panahi • 2018 • Iran Starrin...  \n",
       "3  Criterion Collection Edition #958    Romanian ...  \n",
       "4  Directed by Phil Karlson • 1955 • United State...  "
      ]
     },
     "execution_count": 174,
     "metadata": {},
     "output_type": "execute_result"
    }
   ],
   "source": [
    "df.head()"
   ]
  },
  {
   "cell_type": "code",
   "execution_count": 30,
   "metadata": {},
   "outputs": [],
   "source": [
    "tokenizer = RegexpTokenizer(r'\\w+')\n",
    "stopword_set = set(stopwords.words('english'))"
   ]
  },
  {
   "cell_type": "code",
   "execution_count": 31,
   "metadata": {},
   "outputs": [],
   "source": [
    "def tokenize(input_data):\n",
    "    lowered = input_data.lower()\n",
    "    tokens = tokenizer.tokenize(lowered)\n",
    "    return tokens"
   ]
  },
  {
   "cell_type": "code",
   "execution_count": 32,
   "metadata": {},
   "outputs": [],
   "source": [
    "all_tokens = [tokenize(i) for i in df.summary.values]"
   ]
  },
  {
   "cell_type": "code",
   "execution_count": 33,
   "metadata": {},
   "outputs": [],
   "source": [
    "tagged = [TaggedDocument(words=chunk, tags=[str(i)]) for i, chunk in enumerate(all_tokens)]"
   ]
  },
  {
   "cell_type": "code",
   "execution_count": 115,
   "metadata": {},
   "outputs": [],
   "source": [
    "# MODEL PARAMETERS\n",
    "dm = 0 # 1 for distributed memory(default); 0 for dbow \n",
    "size = 300\n",
    "context_window = 40\n",
    "seed = 0\n",
    "min_count = 10\n",
    "alpha = 0.01\n",
    "max_iter = 200"
   ]
  },
  {
   "cell_type": "code",
   "execution_count": 116,
   "metadata": {},
   "outputs": [],
   "source": [
    "# # BUILD MODEL\n",
    "crit_model = Doc2Vec(documents = tagged,\n",
    "dm = dm,\n",
    "alpha = alpha, # initial learning rate\n",
    "seed = seed,\n",
    "min_count = min_count, # ignore words with freq less than min_count\n",
    "max_vocab_size = None, # \n",
    "window = context_window, # the number of words before and after to be used as context\n",
    "vector_size = size, # is the dimensionality of the feature vector\n",
    "sample = 1e-4, # ?\n",
    "negative = 5, # ? # number of cores\n",
    "epochs = max_iter) "
   ]
  },
  {
   "cell_type": "code",
   "execution_count": 117,
   "metadata": {},
   "outputs": [],
   "source": [
    "# crit_model = pickle.load(open(\"crit_model.pkl\", \"rb\"))"
   ]
  },
  {
   "cell_type": "code",
   "execution_count": 168,
   "metadata": {},
   "outputs": [],
   "source": [
    "test = tokenize('knight death beach chess') # expected to produce 'The Seventh Seal', which failed."
   ]
  },
  {
   "cell_type": "code",
   "execution_count": 169,
   "metadata": {},
   "outputs": [],
   "source": [
    "sev = crit_model.infer_vector(test)"
   ]
  },
  {
   "cell_type": "code",
   "execution_count": 170,
   "metadata": {},
   "outputs": [],
   "source": [
    "sim = crit_model.docvecs.most_similar([sev], topn = 1000)"
   ]
  },
  {
   "cell_type": "code",
   "execution_count": 171,
   "metadata": {},
   "outputs": [],
   "source": [
    "tagsim = [int(i[0]) for i in sim]"
   ]
  },
  {
   "cell_type": "code",
   "execution_count": 172,
   "metadata": {
    "scrolled": false
   },
   "outputs": [],
   "source": [
    "best = []\n",
    "for i in tagsim:\n",
    "    best.append((df.iloc[i].title, df.iloc[i].summary))"
   ]
  }
 ],
 "metadata": {
  "kernelspec": {
   "display_name": "crit_venv",
   "language": "python",
   "name": "crit_venv"
  },
  "language_info": {
   "codemirror_mode": {
    "name": "ipython",
    "version": 3
   },
   "file_extension": ".py",
   "mimetype": "text/x-python",
   "name": "python",
   "nbconvert_exporter": "python",
   "pygments_lexer": "ipython3",
   "version": "3.7.7"
  },
  "toc": {
   "base_numbering": 1,
   "nav_menu": {},
   "number_sections": true,
   "sideBar": true,
   "skip_h1_title": false,
   "title_cell": "Table of Contents",
   "title_sidebar": "Contents",
   "toc_cell": false,
   "toc_position": {},
   "toc_section_display": true,
   "toc_window_display": false
  }
 },
 "nbformat": 4,
 "nbformat_minor": 4
}
