{
 "cells": [
  {
   "cell_type": "code",
   "execution_count": 96,
   "metadata": {},
   "outputs": [],
   "source": [
    "import requests\n",
    "from bs4 import BeautifulSoup\n",
    "import re\n",
    "import pandas as pd\n",
    "from matplotlib import pyplot as plt\n",
    "import seaborn as sns\n",
    "import time\n",
    "import pickle\n",
    "import numpy as np\n",
    "\n",
    "from sklearn.feature_extraction.text import TfidfVectorizer\n",
    "from sklearn.metrics.pairwise import linear_kernel\n",
    "\n",
    "from nltk import RegexpTokenizer\n",
    "from nltk.corpus import stopwords\n",
    "\n",
    "from gensim.models.doc2vec import Doc2Vec, TaggedDocument"
   ]
  },
  {
   "cell_type": "markdown",
   "metadata": {},
   "source": [
    "# The Current Criterion DataFrame"
   ]
  },
  {
   "cell_type": "code",
   "execution_count": 97,
   "metadata": {},
   "outputs": [],
   "source": [
    "df = pickle.load( open( \"criterion.pkl\", \"rb\" ) )"
   ]
  },
  {
   "cell_type": "markdown",
   "metadata": {},
   "source": [
    "# Functions for Doc2Vec Model"
   ]
  },
  {
   "cell_type": "code",
   "execution_count": 3,
   "metadata": {},
   "outputs": [],
   "source": [
    "tokenizer = RegexpTokenizer(r'\\w+')\n",
    "stopword_set = set(stopwords.words('english'))"
   ]
  },
  {
   "cell_type": "code",
   "execution_count": 4,
   "metadata": {},
   "outputs": [],
   "source": [
    "def tokenize(input_data):\n",
    "    lowered = input_data.lower()\n",
    "    tokens = tokenizer.tokenize(lowered)\n",
    "    return tokens"
   ]
  },
  {
   "cell_type": "code",
   "execution_count": 13,
   "metadata": {},
   "outputs": [],
   "source": [
    "all_tokens = [tokenize(i) for i in df.summary.values]"
   ]
  },
  {
   "cell_type": "code",
   "execution_count": 14,
   "metadata": {},
   "outputs": [],
   "source": [
    "tagged = [TaggedDocument(words=chunk, tags=[str(i)]) for i, chunk in enumerate(all_tokens)]"
   ]
  },
  {
   "cell_type": "code",
   "execution_count": 15,
   "metadata": {},
   "outputs": [],
   "source": [
    "# MODEL PARAMETERS\n",
    "dm = 0 # 1 for distributed memory(default); 0 for dbow \n",
    "size = 300\n",
    "context_window = 20\n",
    "seed = 0\n",
    "min_count = 10\n",
    "alpha = 0.01\n",
    "max_iter = 200"
   ]
  },
  {
   "cell_type": "code",
   "execution_count": 16,
   "metadata": {},
   "outputs": [],
   "source": [
    "# # BUILD MODEL\n",
    "crit_model = Doc2Vec(documents = tagged,\n",
    "dm = dm,\n",
    "alpha = alpha, # initial learning rate\n",
    "seed = seed,\n",
    "min_count = min_count, # ignore words with freq less than min_count\n",
    "max_vocab_size = None, # \n",
    "window = context_window, # the number of words before and after to be used as context\n",
    "vector_size = size, # is the dimensionality of the feature vector\n",
    "sample = 1e-4, # ?\n",
    "negative = 5, # ? # number of cores\n",
    "epochs = max_iter) "
   ]
  },
  {
   "cell_type": "code",
   "execution_count": 17,
   "metadata": {},
   "outputs": [],
   "source": [
    "# crit_model = pickle.load(open(\"crit_model.pkl\", \"rb\"))\n",
    "# crit = pickle.dump(df, open( \"criterion.pkl\", \"wb\" ))"
   ]
  },
  {
   "cell_type": "code",
   "execution_count": null,
   "metadata": {},
   "outputs": [],
   "source": []
  },
  {
   "cell_type": "code",
   "execution_count": 24,
   "metadata": {},
   "outputs": [],
   "source": [
    "test = tokenize('ingmar bergman') # expected to produce 'The Seventh Seal', which failed."
   ]
  },
  {
   "cell_type": "code",
   "execution_count": 25,
   "metadata": {},
   "outputs": [],
   "source": [
    "sev = crit_model.infer_vector(test)"
   ]
  },
  {
   "cell_type": "code",
   "execution_count": 26,
   "metadata": {},
   "outputs": [],
   "source": [
    "sim = crit_model.docvecs.most_similar([sev], topn = 300)"
   ]
  },
  {
   "cell_type": "code",
   "execution_count": 27,
   "metadata": {},
   "outputs": [],
   "source": [
    "tagsim = [int(i[0]) for i in sim]"
   ]
  },
  {
   "cell_type": "code",
   "execution_count": 28,
   "metadata": {
    "scrolled": false
   },
   "outputs": [],
   "source": [
    "best = []\n",
    "for i in tagsim:\n",
    "    if len(tokenize(df.iloc[i].summary)) > 40:\n",
    "        best.append((df.iloc[i].title, df.iloc[i].summary))"
   ]
  },
  {
   "cell_type": "code",
   "execution_count": null,
   "metadata": {},
   "outputs": [],
   "source": []
  },
  {
   "cell_type": "code",
   "execution_count": 5,
   "metadata": {},
   "outputs": [
    {
     "data": {
      "text/html": [
       "<div>\n",
       "<style scoped>\n",
       "    .dataframe tbody tr th:only-of-type {\n",
       "        vertical-align: middle;\n",
       "    }\n",
       "\n",
       "    .dataframe tbody tr th {\n",
       "        vertical-align: top;\n",
       "    }\n",
       "\n",
       "    .dataframe thead th {\n",
       "        text-align: right;\n",
       "    }\n",
       "</style>\n",
       "<table border=\"1\" class=\"dataframe\">\n",
       "  <thead>\n",
       "    <tr style=\"text-align: right;\">\n",
       "      <th></th>\n",
       "      <th>title</th>\n",
       "      <th>director</th>\n",
       "      <th>country</th>\n",
       "      <th>year</th>\n",
       "      <th>links</th>\n",
       "      <th>summaries</th>\n",
       "      <th>summary</th>\n",
       "    </tr>\n",
       "  </thead>\n",
       "  <tbody>\n",
       "    <tr>\n",
       "      <th>0</th>\n",
       "      <td>2 or 3 Things I Know About Her</td>\n",
       "      <td>Jean-Luc Godard</td>\n",
       "      <td>France,</td>\n",
       "      <td>1967</td>\n",
       "      <td>https://www.criterionchannel.com/2-or-3-things...</td>\n",
       "      <td>Directed by Jean-Luc Godard • 1967 • France\\nS...</td>\n",
       "      <td>Directed by Jean-Luc Godard • 1967 • France St...</td>\n",
       "    </tr>\n",
       "    <tr>\n",
       "      <th>1</th>\n",
       "      <td>3:10 to Yuma</td>\n",
       "      <td>Delmer Daves</td>\n",
       "      <td>United States,</td>\n",
       "      <td>1957</td>\n",
       "      <td>https://www.criterionchannel.com/3-10-to-yuma</td>\n",
       "      <td>Directed by Delmer Daves • 1957 • United State...</td>\n",
       "      <td>Directed by Delmer Daves • 1957 • United State...</td>\n",
       "    </tr>\n",
       "    <tr>\n",
       "      <th>2</th>\n",
       "      <td>3 Faces</td>\n",
       "      <td>Jafar Panahi</td>\n",
       "      <td>Iran,</td>\n",
       "      <td>2018</td>\n",
       "      <td>https://www.criterionchannel.com/3-faces</td>\n",
       "      <td>Directed by Jafar Panahi • 2018 • Iran\\nStarri...</td>\n",
       "      <td>Directed by Jafar Panahi • 2018 • Iran Starrin...</td>\n",
       "    </tr>\n",
       "    <tr>\n",
       "      <th>3</th>\n",
       "      <td>4 Months, 3 Weeks and 2 Days</td>\n",
       "      <td>Cristian Mungiu</td>\n",
       "      <td>Romania,</td>\n",
       "      <td>2007</td>\n",
       "      <td>https://www.criterionchannel.com/4-months-3-we...</td>\n",
       "      <td>Criterion Collection Edition #958\\r\\n\\r\\nRoman...</td>\n",
       "      <td>Criterion Collection Edition #958    Romanian ...</td>\n",
       "    </tr>\n",
       "    <tr>\n",
       "      <th>4</th>\n",
       "      <td>5 Against the House</td>\n",
       "      <td>Phil Karlson</td>\n",
       "      <td>United States,</td>\n",
       "      <td>1955</td>\n",
       "      <td>https://www.criterionchannel.com/5-against-the...</td>\n",
       "      <td>Directed by Phil Karlson • 1955 • United State...</td>\n",
       "      <td>Directed by Phil Karlson • 1955 • United State...</td>\n",
       "    </tr>\n",
       "    <tr>\n",
       "      <th>...</th>\n",
       "      <td>...</td>\n",
       "      <td>...</td>\n",
       "      <td>...</td>\n",
       "      <td>...</td>\n",
       "      <td>...</td>\n",
       "      <td>...</td>\n",
       "      <td>...</td>\n",
       "    </tr>\n",
       "    <tr>\n",
       "      <th>2095</th>\n",
       "      <td>Zéro de conduite</td>\n",
       "      <td>Jean Vigo</td>\n",
       "      <td>France,</td>\n",
       "      <td>1933</td>\n",
       "      <td>https://www.criterionchannel.com/zero-de-conduite</td>\n",
       "      <td>Directed by Jean Vigo • 1933 • France\\nStarrin...</td>\n",
       "      <td>Directed by Jean Vigo • 1933 • France Starring...</td>\n",
       "    </tr>\n",
       "    <tr>\n",
       "      <th>2096</th>\n",
       "      <td>Zero Focus</td>\n",
       "      <td>Yoshitaro Nomura</td>\n",
       "      <td>Japan,</td>\n",
       "      <td>1961</td>\n",
       "      <td>https://www.criterionchannel.com/zero-focus</td>\n",
       "      <td>Directed by Yoshitaro Nomura • 1961 • Japan\\n\\...</td>\n",
       "      <td>Directed by Yoshitaro Nomura • 1961 • Japan  A...</td>\n",
       "    </tr>\n",
       "    <tr>\n",
       "      <th>2097</th>\n",
       "      <td>Zora Neale Hurston Fieldwork Footage (excerpt)</td>\n",
       "      <td>Zora Neale Hurston</td>\n",
       "      <td>United States,</td>\n",
       "      <td>1928</td>\n",
       "      <td>https://www.criterionchannel.com/zora-neale-hu...</td>\n",
       "      <td>Directed by Zora Neale Hurston • 1928 • United...</td>\n",
       "      <td>Directed by Zora Neale Hurston • 1928 • United...</td>\n",
       "    </tr>\n",
       "    <tr>\n",
       "      <th>2098</th>\n",
       "      <td>Zorgon: The H-Bomb Beast from Hell</td>\n",
       "      <td>Kevin Fernan</td>\n",
       "      <td>United States,</td>\n",
       "      <td>1972</td>\n",
       "      <td>https://www.criterionchannel.com/zorgon-the-h-...</td>\n",
       "      <td>Directed by Kevin Fernan • 1972 • United State...</td>\n",
       "      <td>Directed by Kevin Fernan • 1972 • United State...</td>\n",
       "    </tr>\n",
       "    <tr>\n",
       "      <th>2099</th>\n",
       "      <td>Zorns Lemma</td>\n",
       "      <td>Hollis Frampton</td>\n",
       "      <td>United States,</td>\n",
       "      <td>1970</td>\n",
       "      <td>https://www.criterionchannel.com/zorns-lemma</td>\n",
       "      <td>Directed by Hollis Frampton • 1970 • United St...</td>\n",
       "      <td>Directed by Hollis Frampton • 1970 • United St...</td>\n",
       "    </tr>\n",
       "  </tbody>\n",
       "</table>\n",
       "<p>2100 rows × 7 columns</p>\n",
       "</div>"
      ],
      "text/plain": [
       "                                               title            director  \\\n",
       "0                     2 or 3 Things I Know About Her     Jean-Luc Godard   \n",
       "1                                       3:10 to Yuma        Delmer Daves   \n",
       "2                                            3 Faces        Jafar Panahi   \n",
       "3                       4 Months, 3 Weeks and 2 Days     Cristian Mungiu   \n",
       "4                                5 Against the House        Phil Karlson   \n",
       "...                                              ...                 ...   \n",
       "2095                                Zéro de conduite           Jean Vigo   \n",
       "2096                                      Zero Focus    Yoshitaro Nomura   \n",
       "2097  Zora Neale Hurston Fieldwork Footage (excerpt)  Zora Neale Hurston   \n",
       "2098              Zorgon: The H-Bomb Beast from Hell        Kevin Fernan   \n",
       "2099                                     Zorns Lemma     Hollis Frampton   \n",
       "\n",
       "             country  year                                              links  \\\n",
       "0            France,  1967  https://www.criterionchannel.com/2-or-3-things...   \n",
       "1     United States,  1957      https://www.criterionchannel.com/3-10-to-yuma   \n",
       "2              Iran,  2018           https://www.criterionchannel.com/3-faces   \n",
       "3           Romania,  2007  https://www.criterionchannel.com/4-months-3-we...   \n",
       "4     United States,  1955  https://www.criterionchannel.com/5-against-the...   \n",
       "...              ...   ...                                                ...   \n",
       "2095         France,  1933  https://www.criterionchannel.com/zero-de-conduite   \n",
       "2096          Japan,  1961        https://www.criterionchannel.com/zero-focus   \n",
       "2097  United States,  1928  https://www.criterionchannel.com/zora-neale-hu...   \n",
       "2098  United States,  1972  https://www.criterionchannel.com/zorgon-the-h-...   \n",
       "2099  United States,  1970       https://www.criterionchannel.com/zorns-lemma   \n",
       "\n",
       "                                              summaries  \\\n",
       "0     Directed by Jean-Luc Godard • 1967 • France\\nS...   \n",
       "1     Directed by Delmer Daves • 1957 • United State...   \n",
       "2     Directed by Jafar Panahi • 2018 • Iran\\nStarri...   \n",
       "3     Criterion Collection Edition #958\\r\\n\\r\\nRoman...   \n",
       "4     Directed by Phil Karlson • 1955 • United State...   \n",
       "...                                                 ...   \n",
       "2095  Directed by Jean Vigo • 1933 • France\\nStarrin...   \n",
       "2096  Directed by Yoshitaro Nomura • 1961 • Japan\\n\\...   \n",
       "2097  Directed by Zora Neale Hurston • 1928 • United...   \n",
       "2098  Directed by Kevin Fernan • 1972 • United State...   \n",
       "2099  Directed by Hollis Frampton • 1970 • United St...   \n",
       "\n",
       "                                                summary  \n",
       "0     Directed by Jean-Luc Godard • 1967 • France St...  \n",
       "1     Directed by Delmer Daves • 1957 • United State...  \n",
       "2     Directed by Jafar Panahi • 2018 • Iran Starrin...  \n",
       "3     Criterion Collection Edition #958    Romanian ...  \n",
       "4     Directed by Phil Karlson • 1955 • United State...  \n",
       "...                                                 ...  \n",
       "2095  Directed by Jean Vigo • 1933 • France Starring...  \n",
       "2096  Directed by Yoshitaro Nomura • 1961 • Japan  A...  \n",
       "2097  Directed by Zora Neale Hurston • 1928 • United...  \n",
       "2098  Directed by Kevin Fernan • 1972 • United State...  \n",
       "2099  Directed by Hollis Frampton • 1970 • United St...  \n",
       "\n",
       "[2100 rows x 7 columns]"
      ]
     },
     "execution_count": 5,
     "metadata": {},
     "output_type": "execute_result"
    }
   ],
   "source": [
    "df"
   ]
  },
  {
   "cell_type": "code",
   "execution_count": 110,
   "metadata": {},
   "outputs": [
    {
     "data": {
      "text/plain": [
       "'Criterion Collection Edition #958    Romanian filmmaker Cristian Mungiu shot to international prominence with this rigorously realistic Palme d’Or–winning second feature. In 1987, during the dictatorship of Nicolae Ceaușescu, college roommates Otilia (Anamaria Marinca) and Găbița (Laura Vasiliu) seek an illegal abortion for Găbița. In unflinching but empathetic detail, the film recounts the events of twenty-four perilous hours in their lives, culminating in their encounter with a manipulative and menacing abortionist (Vlad Ivanov). With powerful performances that accentuate the characters’ flawed humanity, 4 MONTHS, 3 WEEKS AND 2 DAYS is a gutting account of the impossible choices women face when taking control of their bodies means breaking the law.'"
      ]
     },
     "execution_count": 110,
     "metadata": {},
     "output_type": "execute_result"
    }
   ],
   "source": [
    "df.iloc[3].summary"
   ]
  },
  {
   "cell_type": "markdown",
   "metadata": {},
   "source": [
    "# Functions for TF-IDF Model (currently working better due to Doc2Vec inconsisent doc lengths)"
   ]
  },
  {
   "cell_type": "code",
   "execution_count": 98,
   "metadata": {},
   "outputs": [],
   "source": [
    "summaries = df.summary.values"
   ]
  },
  {
   "cell_type": "code",
   "execution_count": 99,
   "metadata": {},
   "outputs": [],
   "source": [
    "test = 'death chess'"
   ]
  },
  {
   "cell_type": "code",
   "execution_count": 100,
   "metadata": {},
   "outputs": [],
   "source": [
    "array_with_query = np.insert(summaries, 0, test)"
   ]
  },
  {
   "cell_type": "code",
   "execution_count": 89,
   "metadata": {},
   "outputs": [],
   "source": [
    "tfidf = TfidfVectorizer().fit_transform(array_with_query)"
   ]
  },
  {
   "cell_type": "code",
   "execution_count": 91,
   "metadata": {},
   "outputs": [],
   "source": [
    "cosine_similarities = linear_kernel(tfidf[0], tfidf).flatten()"
   ]
  },
  {
   "cell_type": "code",
   "execution_count": 92,
   "metadata": {},
   "outputs": [],
   "source": [
    "related_docs_indices = cosine_similarities.argsort()[:-20:-1]"
   ]
  },
  {
   "cell_type": "code",
   "execution_count": 114,
   "metadata": {
    "scrolled": false
   },
   "outputs": [
    {
     "name": "stdout",
     "output_type": "stream",
     "text": [
      "Directed by Ingmar Bergman \n",
      " 1957 \n",
      " Sweden    Disillusioned and exhausted after a decade of battling in the Crusades, a knight (Max von Sydow) encounters Death on a desolate beach and challenges him to a fateful game of chess. Much studied, imitated, even parodied, but never outdone, Bergman's stunning allegory of man's search for meaning, The Seventh Seal (Det sjunde inseglet), was one of the benchmark foreign imports of America's 1950s art-house heyday, pushing cinema's boundaries and ushering in a new era of moviegoing.\n",
      "\n",
      "\n",
      "Directed by Céline Sciamma \n",
      " 2007 \n",
      " France Starring Pauline Acquart, Louise Blachère, Adèle Haenel  During a summer in Paris, a love triangle develops between three girls in this provocative and perceptive portrait of teen angst and nascent sexuality. The awkward Anne, the bad girl Floriane, and the gawky Marie play an intense game of emotional chess as they wrestle with love, friendship, and their desire for one another.\n",
      "\n",
      "\n",
      "ZATOICHI #12 Directed by Kenji Misumi \n",
      " 1965 \n",
      " Japan  Kenji Misumi, who directed the first installment of the Zatoichi series, returns with this tale in which the blind swordsman once again finds himself the protector of a child: a little girl pursued by both devious family members and bloodthirsty ruffians. Further complicating his journey is a new acquaintance, a tremendously skilled chess player (the charismatic Mikio Narita) who has mysterious motivations and a dark past.\n",
      "\n",
      "\n",
      "47 samurai avenge the death of their lord in Kenji Mizoguchi's take on the famous historical event.\n",
      "\n",
      "\n",
      "Directed by Fritz Lang \n",
      " 1921 \n",
      " Germany Starring Rudolf Klein-Rogge, Wilhelm Diegelmann, Lil Dagover  In Fritz Lang's spellbinding romantic fantasy, inspired by the Indian folktale of Savitri, a young woman (Lil Dagover) confronts the personification of Death (Bernhard Goetzke) in an effort to save the life of her fiancé (Walter Janssen). In response, Death weaves three romantic tragedies and strikes a deal to unite the girl with her paramour-provided she can prevent the death of the lovers in at least one of the episodes. Thus begin three exotic scenarios of ill-fated love-set in Persia, Quattrocento Venice, and a fancifully rendered ancient China-in which the woman must somehow reverse the course of destiny.\n",
      "\n",
      "\n",
      "Directed by Koji Shima \n",
      " 1955 \n",
      " Japan  Following the tragic death of his father, a young boy's family trains his horse to compete in the local derby.\n",
      "\n",
      "\n",
      "Directed by Yasujiro Ozu \n",
      " 1934 \n",
      " Japan  Family turmoil ensues when, after his father's death, an eldest son is revealed as a scion of a long-dead first wife. (Presented without score.)\n",
      "\n",
      "\n",
      "Directed by Kenji Mizoguchi \n",
      " 1941 \n",
      " Japan  47 samurai avenge the death of their lord in Kenji Mizoguchi's take on the famous historical event.\n",
      "\n",
      "\n",
      "Directed by Yoshitaro Nomura \n",
      " 1974 \n",
      " Japan  Two detectives investigate the seemingly random murder of an old man found bludgeoned to death in a Tokyo rail yard.\n",
      "\n",
      "\n",
      "Directed by Luis García Berlanga \n",
      " 1981 \n",
      " Spain  After the death of Franco's regime, the Marquis of Leguineche returns to Madrid only to find that many things have changed since his departure.\n",
      "\n",
      "\n",
      "Directed by Nagisa Oshima \n",
      " 1968 \n",
      " Japan Starring Yung-do Yun, Kei Sato, Fumio Watanabe  Genius provocateur Nagisa Oshima, an influential figure in the Japanese New Wave of the 1960s, made one of his most startling political statements with the compelling pitch-black satire DEATH BY HANGING. In this macabre farce, a Korean man is sentenced to death in Japan but survives his execution, sending the authorities into a panic about what to do next. At once disturbing and oddly amusing, Oshima’s constantly surprising film is a subversive and surreal indictment of both capital punishment and the treatment of Korean immigrants in his country.\n",
      "\n",
      "\n",
      "Directed by Paul Bartel \n",
      " 1975 \n",
      " United States Starring David Carradine, Simone Griffeth, Sylvester Stallone  In a dystopian future, society is enthralled by the Transcontinental Death Race, a cross-country car race that requires contestants to run down innocent pedestrians, rewarding points for each kill’s brutality. But this year, the drivers have to contend with an armed rebellion that aims to sabotage the race. Directed by Paul Bartel and produced by legendary exploitation-film maverick Roger Coman, DEATH RACE 2000 is a classic midnight movie charged with political allegory.\n",
      "\n",
      "\n",
      "Directed by Bi Gan \n",
      " 2012 \n",
      " China    Water and lightning. Music and poetry. Life and death. An incantatory, visually sublime river journey that anticipates the cosmic mystery of KAILI BLUES.\n",
      "\n",
      "\n",
      "Directed by David Leland \n",
      " 1989 \n",
      " United States  After his friend suffers a fatal heart attack, Ray Macklin becomes convinced that every ache and pain he experiences brings him one step closer to death.\n",
      "\n",
      "\n",
      "Directed by Alan Holly \n",
      " 2013 \n",
      " Ireland    A lost soul stumbles drunkenly through the city at night. In a park, Death finds him and shows him many things. This multi-award-winning animated short film begins as a chilling cautionary tale but ends on a heartwarming note.\n",
      "\n",
      "\n",
      "Directed by Louis King \n",
      " 1937 \n",
      " United States  This time out the race against time mounts up, as Drummond's fiancee Phyllis is kidnapped by an old enemy, who is planning something grisly for the both of them (in a death-trapped room and a series of challenges and clues that would tax James Bond).\n",
      "\n",
      "\n",
      "Directed by Nagisa Oshima \n",
      " 1965 \n",
      " Japan  Director Nagisa Oshima investigates Japanese-Korean relations in DEATH BY HANGING, a subject he earlier explored in this experimental 1965 documentary, the heartrending portrait of an impoverished South Korean boy.\n",
      "\n",
      "\n",
      "Directed by Tadashi Imai \n",
      " 1958 \n",
      " Japan  In a time when adultery is punishable by death, a man who feels he has driven his wife to be unfaithful must save her from being executed. Directed by Tadashi Imai.\n",
      "\n",
      "\n"
     ]
    }
   ],
   "source": [
    "for i in related_docs_indices[1:]:\n",
    "    summ = array_with_query[i].split(' • ')\n",
    "    try:\n",
    "        print(summ[0], '\\n', summ[1], '\\n', summ[2])\n",
    "    except:\n",
    "        print(array_with_query[i])\n",
    "    print('\\n')"
   ]
  },
  {
   "cell_type": "code",
   "execution_count": null,
   "metadata": {},
   "outputs": [],
   "source": []
  },
  {
   "cell_type": "code",
   "execution_count": null,
   "metadata": {},
   "outputs": [],
   "source": []
  }
 ],
 "metadata": {
  "kernelspec": {
   "display_name": "crit_venv",
   "language": "python",
   "name": "crit_venv"
  },
  "language_info": {
   "codemirror_mode": {
    "name": "ipython",
    "version": 3
   },
   "file_extension": ".py",
   "mimetype": "text/x-python",
   "name": "python",
   "nbconvert_exporter": "python",
   "pygments_lexer": "ipython3",
   "version": "3.7.7"
  },
  "toc": {
   "base_numbering": 1,
   "nav_menu": {},
   "number_sections": true,
   "sideBar": true,
   "skip_h1_title": false,
   "title_cell": "Table of Contents",
   "title_sidebar": "Contents",
   "toc_cell": false,
   "toc_position": {},
   "toc_section_display": true,
   "toc_window_display": false
  }
 },
 "nbformat": 4,
 "nbformat_minor": 4
}
