{
 "cells": [
  {
   "cell_type": "code",
   "execution_count": 96,
   "metadata": {},
   "outputs": [],
   "source": [
    "import requests\n",
    "from bs4 import BeautifulSoup\n",
    "import re\n",
    "import pandas as pd\n",
    "from matplotlib import pyplot as plt\n",
    "import seaborn as sns\n",
    "import time\n",
    "import pickle\n",
    "import numpy as np\n",
    "\n",
    "from sklearn.feature_extraction.text import TfidfVectorizer\n",
    "from sklearn.metrics.pairwise import linear_kernel\n",
    "\n",
    "from nltk import RegexpTokenizer\n",
    "from nltk.corpus import stopwords\n",
    "\n",
    "from gensim.models.doc2vec import Doc2Vec, TaggedDocument"
   ]
  },
  {
   "cell_type": "markdown",
   "metadata": {},
   "source": [
    "# The Current Criterion DataFrame"
   ]
  },
  {
   "cell_type": "code",
   "execution_count": 97,
   "metadata": {},
   "outputs": [],
   "source": [
    "df = pickle.load( open( \"criterion.pkl\", \"rb\" ) )"
   ]
  },
  {
   "cell_type": "markdown",
   "metadata": {},
   "source": [
    "# Functions for Doc2Vec Model"
   ]
  },
  {
   "cell_type": "code",
   "execution_count": 3,
   "metadata": {},
   "outputs": [],
   "source": [
    "tokenizer = RegexpTokenizer(r'\\w+')\n",
    "stopword_set = set(stopwords.words('english'))"
   ]
  },
  {
   "cell_type": "code",
   "execution_count": 4,
   "metadata": {},
   "outputs": [],
   "source": [
    "def tokenize(input_data):\n",
    "    lowered = input_data.lower()\n",
    "    tokens = tokenizer.tokenize(lowered)\n",
    "    return tokens"
   ]
  },
  {
   "cell_type": "code",
   "execution_count": 13,
   "metadata": {},
   "outputs": [],
   "source": [
    "all_tokens = [tokenize(i) for i in df.summary.values]"
   ]
  },
  {
   "cell_type": "code",
   "execution_count": 14,
   "metadata": {},
   "outputs": [],
   "source": [
    "tagged = [TaggedDocument(words=chunk, tags=[str(i)]) for i, chunk in enumerate(all_tokens)]"
   ]
  },
  {
   "cell_type": "code",
   "execution_count": 15,
   "metadata": {},
   "outputs": [],
   "source": [
    "# MODEL PARAMETERS\n",
    "dm = 0 # 1 for distributed memory(default); 0 for dbow \n",
    "size = 300\n",
    "context_window = 20\n",
    "seed = 0\n",
    "min_count = 10\n",
    "alpha = 0.01\n",
    "max_iter = 200"
   ]
  },
  {
   "cell_type": "code",
   "execution_count": 16,
   "metadata": {},
   "outputs": [],
   "source": [
    "# # BUILD MODEL\n",
    "crit_model = Doc2Vec(documents = tagged,\n",
    "dm = dm,\n",
    "alpha = alpha, # initial learning rate\n",
    "seed = seed,\n",
    "min_count = min_count, # ignore words with freq less than min_count\n",
    "max_vocab_size = None, # \n",
    "window = context_window, # the number of words before and after to be used as context\n",
    "vector_size = size, # is the dimensionality of the feature vector\n",
    "sample = 1e-4, # ?\n",
    "negative = 5, # ? # number of cores\n",
    "epochs = max_iter) "
   ]
  },
  {
   "cell_type": "code",
   "execution_count": 17,
   "metadata": {},
   "outputs": [],
   "source": [
    "# crit_model = pickle.load(open(\"crit_model.pkl\", \"rb\"))\n",
    "# crit = pickle.dump(df, open( \"criterion.pkl\", \"wb\" ))"
   ]
  },
  {
   "cell_type": "code",
   "execution_count": null,
   "metadata": {},
   "outputs": [],
   "source": []
  },
  {
   "cell_type": "code",
   "execution_count": 24,
   "metadata": {},
   "outputs": [],
   "source": [
    "test = tokenize('ingmar bergman') # expected to produce 'The Seventh Seal', which failed."
   ]
  },
  {
   "cell_type": "code",
   "execution_count": 25,
   "metadata": {},
   "outputs": [],
   "source": [
    "sev = crit_model.infer_vector(test)"
   ]
  },
  {
   "cell_type": "code",
   "execution_count": 26,
   "metadata": {},
   "outputs": [],
   "source": [
    "sim = crit_model.docvecs.most_similar([sev], topn = 300)"
   ]
  },
  {
   "cell_type": "code",
   "execution_count": 27,
   "metadata": {},
   "outputs": [],
   "source": [
    "tagsim = [int(i[0]) for i in sim]"
   ]
  },
  {
   "cell_type": "code",
   "execution_count": 28,
   "metadata": {
    "scrolled": false
   },
   "outputs": [],
   "source": [
    "best = []\n",
    "for i in tagsim:\n",
    "    if len(tokenize(df.iloc[i].summary)) > 40:\n",
    "        best.append((df.iloc[i].title, df.iloc[i].summary))"
   ]
  },
  {
   "cell_type": "code",
   "execution_count": null,
   "metadata": {},
   "outputs": [],
   "source": []
  },
  {
   "cell_type": "code",
   "execution_count": 5,
   "metadata": {},
   "outputs": [
    {
     "data": {
      "text/html": [
       "<div>\n",
       "<style scoped>\n",
       "    .dataframe tbody tr th:only-of-type {\n",
       "        vertical-align: middle;\n",
       "    }\n",
       "\n",
       "    .dataframe tbody tr th {\n",
       "        vertical-align: top;\n",
       "    }\n",
       "\n",
       "    .dataframe thead th {\n",
       "        text-align: right;\n",
       "    }\n",
       "</style>\n",
       "<table border=\"1\" class=\"dataframe\">\n",
       "  <thead>\n",
       "    <tr style=\"text-align: right;\">\n",
       "      <th></th>\n",
       "      <th>title</th>\n",
       "      <th>director</th>\n",
       "      <th>country</th>\n",
       "      <th>year</th>\n",
       "      <th>links</th>\n",
       "      <th>summaries</th>\n",
       "      <th>summary</th>\n",
       "    </tr>\n",
       "  </thead>\n",
       "  <tbody>\n",
       "    <tr>\n",
       "      <th>0</th>\n",
       "      <td>2 or 3 Things I Know About Her</td>\n",
       "      <td>Jean-Luc Godard</td>\n",
       "      <td>France,</td>\n",
       "      <td>1967</td>\n",
       "      <td>https://www.criterionchannel.com/2-or-3-things...</td>\n",
       "      <td>Directed by Jean-Luc Godard • 1967 • France\\nS...</td>\n",
       "      <td>Directed by Jean-Luc Godard • 1967 • France St...</td>\n",
       "    </tr>\n",
       "    <tr>\n",
       "      <th>1</th>\n",
       "      <td>3:10 to Yuma</td>\n",
       "      <td>Delmer Daves</td>\n",
       "      <td>United States,</td>\n",
       "      <td>1957</td>\n",
       "      <td>https://www.criterionchannel.com/3-10-to-yuma</td>\n",
       "      <td>Directed by Delmer Daves • 1957 • United State...</td>\n",
       "      <td>Directed by Delmer Daves • 1957 • United State...</td>\n",
       "    </tr>\n",
       "    <tr>\n",
       "      <th>2</th>\n",
       "      <td>3 Faces</td>\n",
       "      <td>Jafar Panahi</td>\n",
       "      <td>Iran,</td>\n",
       "      <td>2018</td>\n",
       "      <td>https://www.criterionchannel.com/3-faces</td>\n",
       "      <td>Directed by Jafar Panahi • 2018 • Iran\\nStarri...</td>\n",
       "      <td>Directed by Jafar Panahi • 2018 • Iran Starrin...</td>\n",
       "    </tr>\n",
       "    <tr>\n",
       "      <th>3</th>\n",
       "      <td>4 Months, 3 Weeks and 2 Days</td>\n",
       "      <td>Cristian Mungiu</td>\n",
       "      <td>Romania,</td>\n",
       "      <td>2007</td>\n",
       "      <td>https://www.criterionchannel.com/4-months-3-we...</td>\n",
       "      <td>Criterion Collection Edition #958\\r\\n\\r\\nRoman...</td>\n",
       "      <td>Criterion Collection Edition #958    Romanian ...</td>\n",
       "    </tr>\n",
       "    <tr>\n",
       "      <th>4</th>\n",
       "      <td>5 Against the House</td>\n",
       "      <td>Phil Karlson</td>\n",
       "      <td>United States,</td>\n",
       "      <td>1955</td>\n",
       "      <td>https://www.criterionchannel.com/5-against-the...</td>\n",
       "      <td>Directed by Phil Karlson • 1955 • United State...</td>\n",
       "      <td>Directed by Phil Karlson • 1955 • United State...</td>\n",
       "    </tr>\n",
       "    <tr>\n",
       "      <th>...</th>\n",
       "      <td>...</td>\n",
       "      <td>...</td>\n",
       "      <td>...</td>\n",
       "      <td>...</td>\n",
       "      <td>...</td>\n",
       "      <td>...</td>\n",
       "      <td>...</td>\n",
       "    </tr>\n",
       "    <tr>\n",
       "      <th>2095</th>\n",
       "      <td>Zéro de conduite</td>\n",
       "      <td>Jean Vigo</td>\n",
       "      <td>France,</td>\n",
       "      <td>1933</td>\n",
       "      <td>https://www.criterionchannel.com/zero-de-conduite</td>\n",
       "      <td>Directed by Jean Vigo • 1933 • France\\nStarrin...</td>\n",
       "      <td>Directed by Jean Vigo • 1933 • France Starring...</td>\n",
       "    </tr>\n",
       "    <tr>\n",
       "      <th>2096</th>\n",
       "      <td>Zero Focus</td>\n",
       "      <td>Yoshitaro Nomura</td>\n",
       "      <td>Japan,</td>\n",
       "      <td>1961</td>\n",
       "      <td>https://www.criterionchannel.com/zero-focus</td>\n",
       "      <td>Directed by Yoshitaro Nomura • 1961 • Japan\\n\\...</td>\n",
       "      <td>Directed by Yoshitaro Nomura • 1961 • Japan  A...</td>\n",
       "    </tr>\n",
       "    <tr>\n",
       "      <th>2097</th>\n",
       "      <td>Zora Neale Hurston Fieldwork Footage (excerpt)</td>\n",
       "      <td>Zora Neale Hurston</td>\n",
       "      <td>United States,</td>\n",
       "      <td>1928</td>\n",
       "      <td>https://www.criterionchannel.com/zora-neale-hu...</td>\n",
       "      <td>Directed by Zora Neale Hurston • 1928 • United...</td>\n",
       "      <td>Directed by Zora Neale Hurston • 1928 • United...</td>\n",
       "    </tr>\n",
       "    <tr>\n",
       "      <th>2098</th>\n",
       "      <td>Zorgon: The H-Bomb Beast from Hell</td>\n",
       "      <td>Kevin Fernan</td>\n",
       "      <td>United States,</td>\n",
       "      <td>1972</td>\n",
       "      <td>https://www.criterionchannel.com/zorgon-the-h-...</td>\n",
       "      <td>Directed by Kevin Fernan • 1972 • United State...</td>\n",
       "      <td>Directed by Kevin Fernan • 1972 • United State...</td>\n",
       "    </tr>\n",
       "    <tr>\n",
       "      <th>2099</th>\n",
       "      <td>Zorns Lemma</td>\n",
       "      <td>Hollis Frampton</td>\n",
       "      <td>United States,</td>\n",
       "      <td>1970</td>\n",
       "      <td>https://www.criterionchannel.com/zorns-lemma</td>\n",
       "      <td>Directed by Hollis Frampton • 1970 • United St...</td>\n",
       "      <td>Directed by Hollis Frampton • 1970 • United St...</td>\n",
       "    </tr>\n",
       "  </tbody>\n",
       "</table>\n",
       "<p>2100 rows × 7 columns</p>\n",
       "</div>"
      ],
      "text/plain": [
       "                                               title            director  \\\n",
       "0                     2 or 3 Things I Know About Her     Jean-Luc Godard   \n",
       "1                                       3:10 to Yuma        Delmer Daves   \n",
       "2                                            3 Faces        Jafar Panahi   \n",
       "3                       4 Months, 3 Weeks and 2 Days     Cristian Mungiu   \n",
       "4                                5 Against the House        Phil Karlson   \n",
       "...                                              ...                 ...   \n",
       "2095                                Zéro de conduite           Jean Vigo   \n",
       "2096                                      Zero Focus    Yoshitaro Nomura   \n",
       "2097  Zora Neale Hurston Fieldwork Footage (excerpt)  Zora Neale Hurston   \n",
       "2098              Zorgon: The H-Bomb Beast from Hell        Kevin Fernan   \n",
       "2099                                     Zorns Lemma     Hollis Frampton   \n",
       "\n",
       "             country  year                                              links  \\\n",
       "0            France,  1967  https://www.criterionchannel.com/2-or-3-things...   \n",
       "1     United States,  1957      https://www.criterionchannel.com/3-10-to-yuma   \n",
       "2              Iran,  2018           https://www.criterionchannel.com/3-faces   \n",
       "3           Romania,  2007  https://www.criterionchannel.com/4-months-3-we...   \n",
       "4     United States,  1955  https://www.criterionchannel.com/5-against-the...   \n",
       "...              ...   ...                                                ...   \n",
       "2095         France,  1933  https://www.criterionchannel.com/zero-de-conduite   \n",
       "2096          Japan,  1961        https://www.criterionchannel.com/zero-focus   \n",
       "2097  United States,  1928  https://www.criterionchannel.com/zora-neale-hu...   \n",
       "2098  United States,  1972  https://www.criterionchannel.com/zorgon-the-h-...   \n",
       "2099  United States,  1970       https://www.criterionchannel.com/zorns-lemma   \n",
       "\n",
       "                                              summaries  \\\n",
       "0     Directed by Jean-Luc Godard • 1967 • France\\nS...   \n",
       "1     Directed by Delmer Daves • 1957 • United State...   \n",
       "2     Directed by Jafar Panahi • 2018 • Iran\\nStarri...   \n",
       "3     Criterion Collection Edition #958\\r\\n\\r\\nRoman...   \n",
       "4     Directed by Phil Karlson • 1955 • United State...   \n",
       "...                                                 ...   \n",
       "2095  Directed by Jean Vigo • 1933 • France\\nStarrin...   \n",
       "2096  Directed by Yoshitaro Nomura • 1961 • Japan\\n\\...   \n",
       "2097  Directed by Zora Neale Hurston • 1928 • United...   \n",
       "2098  Directed by Kevin Fernan • 1972 • United State...   \n",
       "2099  Directed by Hollis Frampton • 1970 • United St...   \n",
       "\n",
       "                                                summary  \n",
       "0     Directed by Jean-Luc Godard • 1967 • France St...  \n",
       "1     Directed by Delmer Daves • 1957 • United State...  \n",
       "2     Directed by Jafar Panahi • 2018 • Iran Starrin...  \n",
       "3     Criterion Collection Edition #958    Romanian ...  \n",
       "4     Directed by Phil Karlson • 1955 • United State...  \n",
       "...                                                 ...  \n",
       "2095  Directed by Jean Vigo • 1933 • France Starring...  \n",
       "2096  Directed by Yoshitaro Nomura • 1961 • Japan  A...  \n",
       "2097  Directed by Zora Neale Hurston • 1928 • United...  \n",
       "2098  Directed by Kevin Fernan • 1972 • United State...  \n",
       "2099  Directed by Hollis Frampton • 1970 • United St...  \n",
       "\n",
       "[2100 rows x 7 columns]"
      ]
     },
     "execution_count": 5,
     "metadata": {},
     "output_type": "execute_result"
    }
   ],
   "source": [
    "df"
   ]
  },
  {
   "cell_type": "code",
   "execution_count": 110,
   "metadata": {},
   "outputs": [
    {
     "data": {
      "text/plain": [
       "'Criterion Collection Edition #958    Romanian filmmaker Cristian Mungiu shot to international prominence with this rigorously realistic Palme d’Or–winning second feature. In 1987, during the dictatorship of Nicolae Ceaușescu, college roommates Otilia (Anamaria Marinca) and Găbița (Laura Vasiliu) seek an illegal abortion for Găbița. In unflinching but empathetic detail, the film recounts the events of twenty-four perilous hours in their lives, culminating in their encounter with a manipulative and menacing abortionist (Vlad Ivanov). With powerful performances that accentuate the characters’ flawed humanity, 4 MONTHS, 3 WEEKS AND 2 DAYS is a gutting account of the impossible choices women face when taking control of their bodies means breaking the law.'"
      ]
     },
     "execution_count": 110,
     "metadata": {},
     "output_type": "execute_result"
    }
   ],
   "source": [
    "df.iloc[3].summary"
   ]
  },
  {
   "cell_type": "markdown",
   "metadata": {},
   "source": [
    "# Functions for TF-IDF Model (currently working better due to Doc2Vec inconsisent doc lengths)"
   ]
  },
  {
   "cell_type": "code",
   "execution_count": 98,
   "metadata": {},
   "outputs": [],
   "source": [
    "summaries = df.summary.values"
   ]
  },
  {
   "cell_type": "code",
   "execution_count": 136,
   "metadata": {},
   "outputs": [],
   "source": [
    "user_input = 'death chess'"
   ]
  },
  {
   "cell_type": "code",
   "execution_count": 148,
   "metadata": {},
   "outputs": [],
   "source": [
    "def critsearch(user_input):  \n",
    "    # add the user's query to the film summaries\n",
    "    array_with_query = np.insert(summaries, 0, user_input)\n",
    "    \n",
    "    # vectorize all of the docs using a sparse matrix with TF-IDF \n",
    "    tfidf = TfidfVectorizer().fit_transform(array_with_query)\n",
    "    \n",
    "    # use dot product to find most similar vectors/summaries\n",
    "    cosine_similarities = linear_kernel(tfidf[0], tfidf).flatten()\n",
    "\n",
    "    # find the top 40, using -40 since they are reverse sorted\n",
    "    related_docs_indices = cosine_similarities.argsort()[:-40:-1]\n",
    "\n",
    "    # print the results with streamlit\n",
    "    for i in related_docs_indices[1:]:\n",
    "        summ = array_with_query[i].split('•')\n",
    "        try:\n",
    "            print('Title: ', df.iloc[i-1].title, '\\n', summ[0], '\\n', summ[1])\n",
    "            print(summ[2].split(maxsplit=1)[0])\n",
    "            print(summ[2].split(maxsplit=1)[1])\n",
    "        except:\n",
    "            print(array_with_query[i])\n",
    "        print('\\n')"
   ]
  },
  {
   "cell_type": "code",
   "execution_count": 149,
   "metadata": {},
   "outputs": [],
   "source": [
    "# critsearch(userinput) # uncomment to test in notebook, should return 'The Seventh Seal' as first result"
   ]
  }
 ],
 "metadata": {
  "kernelspec": {
   "display_name": "crit_venv",
   "language": "python",
   "name": "crit_venv"
  },
  "language_info": {
   "codemirror_mode": {
    "name": "ipython",
    "version": 3
   },
   "file_extension": ".py",
   "mimetype": "text/x-python",
   "name": "python",
   "nbconvert_exporter": "python",
   "pygments_lexer": "ipython3",
   "version": "3.7.7"
  },
  "toc": {
   "base_numbering": 1,
   "nav_menu": {},
   "number_sections": true,
   "sideBar": true,
   "skip_h1_title": false,
   "title_cell": "Table of Contents",
   "title_sidebar": "Contents",
   "toc_cell": false,
   "toc_position": {},
   "toc_section_display": true,
   "toc_window_display": false
  }
 },
 "nbformat": 4,
 "nbformat_minor": 4
}
